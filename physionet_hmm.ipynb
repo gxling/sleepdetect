{
 "cells": [
  {
   "cell_type": "code",
   "execution_count": 230,
   "metadata": {
    "collapsed": true
   },
   "outputs": [],
   "source": [
    "from IPython.display import display\n",
    "import matplotlib.pyplot as plt\n",
    "%matplotlib inline\n",
    "import math\n",
    "import numpy as np\n",
    "import pandas as pd\n",
    "from scipy import signal,interpolate\n",
    "import os\n",
    "import shutil\n",
    "\n",
    "import wfdb\n",
    "\n",
    "plt.rcParams['font.sans-serif'] = ['SimHei'] #用来正常显示中文标签\n",
    "plt.rcParams['axes.unicode_minus'] = False #用来正常显示负号"
   ]
  },
  {
   "cell_type": "code",
   "execution_count": 231,
   "metadata": {},
   "outputs": [],
   "source": [
    "# 定义求RR间期的函数\n",
    "def RR(signal,fs_raw=250):\n",
    "    rr = [] #用来存储RR间期的数组\n",
    "    R_pot = [] #用来存储满足条件R点的数组\n",
    "    for index,value in enumerate(signal):\n",
    "        if(index>0):\n",
    "            rr_pot = (value-signal[index-1])/fs_raw\n",
    "            #去除异常的RR间期数值，保留[0.3,1.5]区间的数值\n",
    "            if(rr_pot < 1.5 and rr_pot >0.3):\n",
    "                rr.append(rr_pot)\n",
    "                R_pot.append(value)\n",
    "    return rr,R_pot\n",
    "# 线性内插函数\n",
    "def Interplt(rr, R_pot,fs=250):            \n",
    "    x = np.array(R_pot)/fs\n",
    "    y = rr\n",
    "    tck = interpolate.splrep(x, y, s=0)\n",
    "    t = 8*60 # 8min片段\n",
    "    xnew = np.arange(0,t,0.5)\n",
    "    ynew = interpolate.splev(xnew, tck, der=0)\n",
    "    return xnew,ynew\n",
    "\n",
    "# 将睡眠标签及8分钟观察数据追加进数组data_for_train\n",
    "def write_tag_observation(file,a_refer=9):\n",
    "    # 计算有效区间\n",
    "    obsv_rr = RR_final(file)\n",
    "    a = valid(obsv_rr) #file的有效区间\n",
    "    \n",
    "    # 计算RR间期\n",
    "    record = wfdb.rdrecord(file, channels=[0])\n",
    "    ann_ecg = wfdb.rdann(file,'ecg')\n",
    "    ann_st = wfdb.rdann(file,'st')\n",
    "\n",
    "    # print(ann_st.aux_note[:10])\n",
    "    st = [] #用来存储睡眠状态标签的数组\n",
    "    for aux_note in ann_st.aux_note:\n",
    "        st.append(aux_note.split(\" \")[0])\n",
    "    fs = record.fs       \n",
    "\n",
    "    # 将MT（Moment time 运动状态替换为W）\n",
    "    for index, value in enumerate(st):\n",
    "        if value=='MT':\n",
    "            st[index]='W'\n",
    "\n",
    "    # slp01a 共有len(st)=240个睡眠分期，因为选取的RIS序列为包含该睡眠分期的T=8min片段，因此可训练睡眠分期共有240-15=225个，即st[15:len(st)]\n",
    "    # 观察值序列分别为[0,8min],[0.5,8.5min],[1,9min]...共225个片段对应的经过插值滤波后的8分钟RR间期，下面给出实现代码\n",
    "\n",
    "    T = 8\n",
    "#     fs = 250\n",
    "    min_sample = 60*fs\n",
    "\n",
    "    data_for_train = []\n",
    "    for st_num in range(len(st)-2*T+1):\n",
    "        sig_start = 0.5*st_num*min_sample\n",
    "        sig_end = (T+0.5*st_num)*min_sample\n",
    "        hmm_rr_st_index = []\n",
    "        for index,value in enumerate(ann_ecg.sample):\n",
    "            if(value >= sig_start and value <= sig_end):\n",
    "                hmm_rr_st_index.append(index)\n",
    "        hmm_rr_st = ann_ecg.sample[hmm_rr_st_index[0]:hmm_rr_st_index[-1]] # 每个睡眠分期对应的T=8分钟RR间期索引序列\n",
    "\n",
    "        # 获取RR间期序列，并重采样\n",
    "        st_rr,st_R_pot = RR(hmm_rr_st,fs)\n",
    "        \n",
    "        st_R_pot = st_R_pot-st_R_pot[0]\n",
    "        hmm_rr_st = Interplt(st_rr,st_R_pot)[1] #三次样条插值函数Interplt\n",
    "        \n",
    "        hmm_rr_st_num = hmm_rr_st - signal.medfilt(hmm_rr_st,101) #将滤波后的RR间期序列赋给对应睡眠分期的观测值\n",
    "        hmm_obsv_rr = []\n",
    "        #限幅和编码\n",
    "        for value in hmm_rr_st_num:\n",
    "            if(value < -0.3):\n",
    "                value = -37 #int(-0.3*1000/8)\n",
    "            elif(value > 0.3):\n",
    "                value = 37 #int(0.3*1000/8)\n",
    "            else:\n",
    "                value = int(1000*value/8)\n",
    "            value = int(value*a_refer/a) #标准化\n",
    "            hmm_obsv_rr.append(value)\n",
    "\n",
    "        data_for_train.append([st[st_num+2*T-1],hmm_obsv_rr]) #将睡眠标签及对应8分钟观察值存进数组data_for_train\n",
    "    return data_for_train\n",
    "\n",
    "# 存储滤波、限幅编码后的RR间期序列，为通过直方图匹配变换来消除不同个体RR间期差异做准备\n",
    "def RR_final(file):\n",
    "    # 计算RR间期\n",
    "    record = wfdb.rdrecord(file, channels=[0])\n",
    "    ann_ecg = wfdb.rdann(file,'ecg')\n",
    "    ann_st = wfdb.rdann(file,'st')\n",
    "\n",
    "    # print(ann_st.aux_note[:10]）\n",
    "    st = [] #用来存储睡眠状态标签的数组\n",
    "    for aux_note in ann_st.aux_note:\n",
    "        st.append(aux_note.split(\" \")[0])\n",
    "    fs = record.fs\n",
    "    rr,r_pot = RR(ann_ecg.sample,fs)          \n",
    "\n",
    "    # 将MT（Moment time 运动状态替换为W）\n",
    "    for index, value in enumerate(st):\n",
    "        if value=='MT':\n",
    "            st[index]='W'\n",
    "            \n",
    "    \n",
    "    #三次样条插值函数Interplt\n",
    "    x = np.array(r_pot)/record.fs\n",
    "    y = rr\n",
    "    tck = interpolate.splrep(x, y, s=0)\n",
    "    t = record.sig_len/record.fs      #信号长度（s）\n",
    "    xnew = np.arange(0,t,0.5)\n",
    "    rr_new = interpolate.splev(xnew, tck, der=0)\n",
    "        \n",
    "        \n",
    "    rr_filt = rr_new - signal.medfilt(rr_new,101) #将滤波后的RR间期序列赋给对应睡眠分期的观测值\n",
    "    obsv_rr = []\n",
    "    #限幅和编码\n",
    "    for value in rr_filt:\n",
    "        if(value < -0.3):\n",
    "            value = -37 #int(-0.3*1000/8)\n",
    "        elif(value > 0.3):\n",
    "            value = 37 #int(0.3*1000/8)\n",
    "        else:\n",
    "            value = int(1000*value/8)\n",
    "        obsv_rr.append(value)\n",
    "\n",
    "    return obsv_rr\n",
    "\n",
    "# 为消除不同个体差异应用直方图匹配法：先寻找hmm_obsv_rr的90%有效区间[-a,a]\n",
    "def valid(obsv_rr):\n",
    "    for a in range(37):\n",
    "        count_a = 0 # 将介于区间[-a,a]的r计数，初始化为0\n",
    "        for r in obsv_rr:\n",
    "            if(r > -a and r < a):\n",
    "                count_a += 1\n",
    "        if(count_a > 0.9*len(obsv_rr)):\n",
    "            choose_a = count_a\n",
    "            break\n",
    "    return a # 即90%的点落在[-a,a]之间    "
   ]
  },
  {
   "cell_type": "code",
   "execution_count": 232,
   "metadata": {},
   "outputs": [
    {
     "data": {
      "image/png": "[encoded data removed]",
      "text/plain": [
       "<matplotlib.figure.Figure at 0x14804710>"
      ]
     },
     "metadata": {},
     "output_type": "display_data"
    },
    {
     "name": "stdout",
     "output_type": "stream",
     "text": [
      "KstestResult(statistic=0.3162776458295986, pvalue=0.0)\n",
      "(0.9565344452857971, 0.0)\n",
      "9\n"
     ]
    }
   ],
   "source": [
    "from scipy.stats import kstest\n",
    "from scipy import stats\n",
    "\n",
    "# 直方图匹配变换\n",
    "file_refer = 'slp01a'#参考系\n",
    "cwd = os.getcwd()\n",
    "file = os.path.join(cwd, 'slpdb_dl_dir', file_refer)\n",
    "obsv_rr = RR_final(file)\n",
    "\n",
    "x = obsv_rr\n",
    "plt.hist(x, bins=256, normed=1,edgecolor='None',facecolor='red')  #画出x的直方图\n",
    "plt.show()\n",
    "test_stat1 = kstest(x, 'norm') #p-value=0<0.05,拒绝假设，假设不成立（x不服从正态分布）,GaussianHMM不适应，考虑MultinomialHMM\n",
    "print(test_stat1)\n",
    "\n",
    "print(stats.shapiro(x))#第二个为p值，<0.5,不服从正态分布\n",
    "\n",
    "refer_a = valid(obsv_rr)\n",
    "print(refer_a)"
   ]
  },
  {
   "cell_type": "code",
   "execution_count": 256,
   "metadata": {},
   "outputs": [
    {
     "data": {
      "image/png": "[encoded data removed]",
      "text/plain": [
       "<matplotlib.figure.Figure at 0x147f97f0>"
      ]
     },
     "metadata": {},
     "output_type": "display_data"
    },
    {
     "name": "stdout",
     "output_type": "stream",
     "text": [
      "17\n"
     ]
    },
    {
     "data": {
      "image/png": "[encoded data removed]",
      "text/plain": [
       "<matplotlib.figure.Figure at 0x1bede4a8>"
      ]
     },
     "metadata": {},
     "output_type": "display_data"
    },
    {
     "name": "stdout",
     "output_type": "stream",
     "text": [
      "9\n"
     ]
    }
   ],
   "source": [
    "# 直方图匹配变换\n",
    "file_deal = 'slp67x'#待处理系\n",
    "cwd = os.getcwd()\n",
    "file = os.path.join(cwd, 'slpdb_dl_dir', file_deal)\n",
    "obsv_rr = RR_final(file)\n",
    "\n",
    "x = obsv_rr\n",
    "plt.hist(x, bins=256, normed=1,edgecolor='None',facecolor='red')  #画出x的直方图\n",
    "plt.show()\n",
    "\n",
    "# 为消除不同个体差异应用直方图匹配法：先寻找hmm_obsv_rr的90%有效区间[-a,a]\n",
    "a = valid(obsv_rr)\n",
    "obsv_rr_deal = np.array(obsv_rr)*refer_a/a\n",
    "print(a)\n",
    "\n",
    "x = obsv_rr_deal\n",
    "plt.hist(x, bins=256, normed=1,edgecolor='None',facecolor='red')  #画出x的直方图\n",
    "plt.show()\n",
    "b = valid(obsv_rr_deal)\n",
    "print(b)"
   ]
  },
  {
   "cell_type": "code",
   "execution_count": 234,
   "metadata": {},
   "outputs": [
    {
     "name": "stdout",
     "output_type": "stream",
     "text": [
      "---  There is this folder!  ---\n"
     ]
    }
   ],
   "source": [
    "## 预处理模块：将不同睡眠分期状态及对应的RIS观察值写进文件hmm_obsv.txt\n",
    "cwd = os.getcwd()\n",
    "HMM_data_path = os.path.join(cwd, 'HMM_train')\n",
    "# HMM_data_path = cwd +\"\\\\HMM_data\"\n",
    "folder = os.path.exists(HMM_data_path)  \n",
    "if not folder:                   #判断是否存在文件夹如果不存在则创建为文件夹  \n",
    "    os.makedirs(HMM_data_path)            #makedirs 创建文件时如果路径不存在会创建这个路径  \n",
    "    print (\"---  New folder...  ---\")  \n",
    "    print (\"---  OK  ---\" ) \n",
    "else:  \n",
    "    print (\"---  There is this folder!  ---\" ) \n",
    "\n",
    "file_obsv =  os.path.join(HMM_data_path, 'hmm_obsv.txt') \n",
    "file_test =  os.path.join(HMM_data_path, 'hmm_test.txt') "
   ]
  },
  {
   "cell_type": "code",
   "execution_count": 235,
   "metadata": {},
   "outputs": [
    {
     "name": "stdout",
     "output_type": "stream",
     "text": [
      "Writing data of: C:\\Users\\Administrator\\task\\hrv\\sleepdetect\\slpdb_dl_dir\\slp01a\n",
      "Writing data of: C:\\Users\\Administrator\\task\\hrv\\sleepdetect\\slpdb_dl_dir\\slp01b\n",
      "Writing data of: C:\\Users\\Administrator\\task\\hrv\\sleepdetect\\slpdb_dl_dir\\slp02a\n",
      "Writing data of: C:\\Users\\Administrator\\task\\hrv\\sleepdetect\\slpdb_dl_dir\\slp02b\n",
      "Writing data of: C:\\Users\\Administrator\\task\\hrv\\sleepdetect\\slpdb_dl_dir\\slp04\n",
      "Writing data of: C:\\Users\\Administrator\\task\\hrv\\sleepdetect\\slpdb_dl_dir\\slp32\n",
      "Writing data of: C:\\Users\\Administrator\\task\\hrv\\sleepdetect\\slpdb_dl_dir\\slp41\n",
      "Writing data of: C:\\Users\\Administrator\\task\\hrv\\sleepdetect\\slpdb_dl_dir\\slp48\n",
      "Writing data of: C:\\Users\\Administrator\\task\\hrv\\sleepdetect\\slpdb_dl_dir\\slp60\n",
      "Writing data of: C:\\Users\\Administrator\\task\\hrv\\sleepdetect\\slpdb_dl_dir\\slp67x\n"
     ]
    }
   ],
   "source": [
    "# 批量读取slpdb_dl_dir下.dat文件,并写入\n",
    "# display(os.listdir('slpdb_dl_dir'))\n",
    "file_batch = ['slp01a', 'slp01b', 'slp02a', 'slp02b', 'slp04', 'slp32', 'slp41', 'slp48', 'slp60', 'slp67x']\n",
    "# file_batch = ['slp03'] #最后一个睡眠标签位置大于RR间期，需要去除最后一个睡眠标签，作为测试样本\n",
    "fid = open(file_obsv,\"w\")\n",
    "for file_alone in file_batch:\n",
    "    file = os.path.join(cwd, 'slpdb_dl_dir', file_alone)\n",
    "    print(\"Writing data of:\",file)\n",
    "    data_for_train = write_tag_observation(file)\n",
    "    \n",
    "    for line in data_for_train:\n",
    "        fid.write(line[0]+\",\")\n",
    "        for content in line[1]:\n",
    "            fid.write(str(content)+\",\")\n",
    "        fid.write(\"\\n\")\n",
    "        \n",
    "fid.close()"
   ]
  },
  {
   "cell_type": "code",
   "execution_count": 236,
   "metadata": {
    "collapsed": true
   },
   "outputs": [],
   "source": [
    "observations = list(range(-37,38))\n",
    "Dic_observations = {observations[i]:i for i in range(75)}\n",
    "stations = ['1','2','3','4','R','W']"
   ]
  },
  {
   "cell_type": "code",
   "execution_count": 237,
   "metadata": {},
   "outputs": [
    {
     "name": "stdout",
     "output_type": "stream",
     "text": [
      "[[ 0.  2.  4. ... 10. 18. 31.]\n",
      " [ 1.  0.  0. ...  9.  3.  0.]\n",
      " [17. 12. 12. ...  0.  0.  0.]\n",
      " ...\n",
      " [ 6.  5.  2. ...  4.  9. 17.]\n",
      " [10.  9.  6. ...  0.  0.  0.]\n",
      " [ 0.  0.  0. ...  3.  3.  2.]]\n"
     ]
    }
   ],
   "source": [
    "## 读取睡眠标签及观察值序列文件hmm_obsv.txt\n",
    "file =  os.path.join(HMM_data_path, 'hmm_obsv.txt') \n",
    "fid = open(file,\"r\")\n",
    "note = fid.readlines()\n",
    "fid.close()\n",
    "\n",
    "states = [] # 存储hmm_obsv.txt的睡眠标签\n",
    "\n",
    "T = 960 \n",
    "observations_data= np.empty((len(note),T)) #用来存储观察值序列的矩阵，每行为一个观察值序列，每个序列长度固定为T=960\n",
    "\n",
    "Ti = 0\n",
    "\n",
    "for line in note:\n",
    "    line_rr = line.split(\",\")\n",
    "    states.append(line_rr[0][0])#将睡眠标签写进states数组,最后一个[0]是为了去空格\n",
    "    \n",
    "    line_new = [] # 对应RR间期\n",
    "    for content in line_rr[1:-1]:  #去掉第一位标签，最后一位换行符\n",
    "        line_new.append(int(content))#int 的作用是将str转为int\n",
    "\n",
    "#     print(line_rr[0])\n",
    "#     print(line_new)\n",
    "#     print(\"==================\")\n",
    "\n",
    "    # 为了保证观察序列长度一致，设置观察序列长度T=2*60*8=960，因此从序列最后开始倒数选取T个观察值(需要重写此处，因为每个观察值列都为960)\n",
    "    #（why倒数选取T个观察值：因为越后面的RR间期越能反应当前的睡眠分期）\n",
    "    line_new = line_new[-T:]\n",
    "    observations_data[Ti:] = line_new\n",
    "    Ti+=1\n",
    "\n",
    "print(observations_data)"
   ]
  },
  {
   "cell_type": "code",
   "execution_count": null,
   "metadata": {},
   "outputs": [],
   "source": []
  },
  {
   "cell_type": "code",
   "execution_count": 238,
   "metadata": {},
   "outputs": [
    {
     "name": "stdout",
     "output_type": "stream",
     "text": [
      "[ 975. 1690.  141.   73.  319. 1646.]\n",
      "4844.0\n"
     ]
    }
   ],
   "source": [
    "stations = ['1','2','3','4','R','W']\n",
    "count_stations = np.zeros(6)\n",
    "i = 0\n",
    "for station_alone in stations:\n",
    "    count_stations[i] = states.count(station_alone)\n",
    "    i+=1\n",
    "print(count_stations)\n",
    "print(sum(count_stations))"
   ]
  },
  {
   "cell_type": "code",
   "execution_count": 239,
   "metadata": {
    "collapsed": true
   },
   "outputs": [],
   "source": [
    "observations_1 = np.empty((int(count_stations[0]),T))\n",
    "observations_2 = np.empty((int(count_stations[1]),T))\n",
    "observations_3 = np.empty((int(count_stations[2]),T))\n",
    "observations_4 = np.empty((int(count_stations[3]),T))\n",
    "observations_R = np.empty((int(count_stations[4]),T))\n",
    "observations_W = np.empty((int(count_stations[5]),T))\n",
    "observations_matrix = [observations_1, observations_2, observations_3, observations_4, observations_R, observations_W]"
   ]
  },
  {
   "cell_type": "code",
   "execution_count": 240,
   "metadata": {
    "collapsed": true
   },
   "outputs": [],
   "source": [
    "for i in range(6):\n",
    "    line = 0\n",
    "    for index,value in enumerate(states):\n",
    "        if(value==stations[i]):\n",
    "            observations_matrix[i][line] = observations_data[index]\n",
    "            line+=1            \n",
    "    "
   ]
  },
  {
   "cell_type": "code",
   "execution_count": 242,
   "metadata": {},
   "outputs": [
    {
     "name": "stdout",
     "output_type": "stream",
     "text": [
      "\n",
      "正在训练隐马尔科夫模型....\n",
      "[-2800749.85363023 -2796607.14351467 -2797347.76457289]\n",
      "正在保存第 0 个模型\n",
      "========\n",
      "\n",
      "正在训练隐马尔科夫模型....\n",
      "[-4719530.42552638 -4718203.17581538 -4702085.20985447]\n",
      "正在保存第 1 个模型\n",
      "========\n",
      "\n",
      "正在训练隐马尔科夫模型....\n",
      "[-334002.65414636 -336370.16920752 -333883.12608036]\n",
      "正在保存第 2 个模型\n",
      "========\n",
      "\n",
      "正在训练隐马尔科夫模型....\n",
      "[-193716.35690159 -195433.18996011 -193920.50046499]\n",
      "正在保存第 3 个模型\n",
      "========\n",
      "\n",
      "正在训练隐马尔科夫模型....\n",
      "[-877818.104798   -883556.18824938 -877866.37744085]\n",
      "正在保存第 4 个模型\n",
      "========\n",
      "\n",
      "正在训练隐马尔科夫模型....\n",
      "[-4294165.61807753 -4299921.9335349  -4291915.32595038]\n",
      "正在保存第 5 个模型\n",
      "========\n"
     ]
    }
   ],
   "source": [
    "## 利用Baum-Welch算法求解HMM模型参数(HMM问题二),分别训练6个模型\n",
    "# 由于Baum-Welch(鲍姆-韦尔奇)算法是基于EM算法的近似算法，所以我们需要多跑几次，比如下面我们跑三次，选择一个比较优的模型参数，代码如下：\n",
    "import numpy as np\n",
    "from hmmlearn import hmm\n",
    "from sklearn.externals import joblib\n",
    "import warnings\n",
    "warnings.filterwarnings(\"ignore\")\n",
    "\n",
    "# class hmmlearn.hmm.GaussianHMM(n_components=1, covariance_type='diag', min_covar=0.001, startprob_prior=1.0, transmat_prior=1.0, \n",
    "#                                means_prior=0, means_weight=0, covars_prior=0.01, covars_weight=1,algorithm='viterbi', \n",
    "#                                random_state=None, n_iter=10, tol=0.01, verbose=False, params='stmc', init_params='stmc')\n",
    "                               \n",
    "n_states = len(stations)\n",
    "\n",
    "# 因为下面使用GaussianHMM，不需要给出observations，及对应的索引\n",
    "# observations = list(range(-37,38))\n",
    "# Dic_observations = {observations[i]:i for i in range(75)}\n",
    "# observations_data_index = np.empty(np.shape(observations_data))\n",
    "\n",
    "# 分别训练i=0,1,2,3,4,5 共6个模型\n",
    "for i in range(6):\n",
    "#     observations_tem = observations_matrix[i]\n",
    "#     for line in range(int(count_stations[i])):\n",
    "#         for colum in range(T):\n",
    "#             observations_data_index[line][colum]=Dic_observations[observations_tem[line][colum]]\n",
    "\n",
    "#     n_observations = len(observations)\n",
    "    # hmmlearn实现了三种HMM模型类，按照观测状态是连续状态还是离散状态，可以分为两类。\n",
    "    # GaussianHMM和GMMHMM是连续观测状态的HMM模型，而MultinomialHMM是离散观测状态的模型\n",
    "\n",
    "    # model = hmm.MultinomialHMM(n_components=n_states, n_iter=20, tol=0.01) #不满足多项式分布\n",
    "#     model = hmm.GaussianHMM(n_components=n_states, covariance_type='diag', n_iter=1000, tol=0.01) #本模型中observations为连续状态，满足高斯分布\n",
    "#     X = observations_data_index\n",
    "    X = observations_matrix[i]\n",
    "\n",
    "    print(\"\\n正在训练隐马尔科夫模型....\")  \n",
    "    # 跑三次，选择一个比较优的模型参数\n",
    "    model_0 = hmm.GaussianHMM(n_components=n_states, covariance_type='diag', n_iter=10000, tol=0.01) \n",
    "    model_1 = hmm.GaussianHMM(n_components=n_states, covariance_type='diag', n_iter=10000, tol=0.01)\n",
    "    model_2 = hmm.GaussianHMM(n_components=n_states, covariance_type='diag', n_iter=10000, tol=0.01)\n",
    "#     model_0 = hmm.GMMHMM(n_components=n_states) #混合高斯模型的准确率低于高斯模型，next step：验证数据服从高斯分布，消除RR间期个体差异\n",
    "#     model_1 = hmm.GMMHMM(n_components=n_states)\n",
    "#     model_2 = hmm.GMMHMM(n_components=n_states)\n",
    "    model_score = np.zeros(3)\n",
    "    model_0.fit(X)\n",
    "    model_1.fit(X)\n",
    "    model_2.fit(X)\n",
    "    model_score[0] = model_0.score(X)\n",
    "    model_score[1] = model_1.score(X)\n",
    "    model_score[2] = model_2.score(X)\n",
    "    print(model_score)\n",
    "    model_score = model_score.tolist()#将numpy数组转换为list\n",
    "#     model = '%s%d'%('model_',model_score.index(max(model_score)))#得分最高的模型，赋给model（暂未实现，先将model_2模型保存）\n",
    "    print(\"正在保存第\", '%d' %i,\"个模型\")\n",
    "    joblib.dump(model_2, '%s%d%s'%('model_',i,'.pkl'))#保存模型为model_i.pkl\n",
    "    print(\"========\")\n",
    "#     model.fit(X)\n",
    "#     print(model.startprob_)\n",
    "#     print(model.transmat_)\n",
    "#     print(model.means_)\n",
    "#     print(model.covars_)\n",
    "#     print(model.score(X))\n",
    "#     print(\"========\")\n",
    "#     print(\"model训练完毕，请选取分数最高的模型参数\")\n",
    "    \n",
    "#     保存/调用模型\n",
    "#     joblib.dump(model, \"hmm_model1.pkl\")\n",
    "#     joblib.load(\"hmm_model1.pkl\") "
   ]
  },
  {
   "cell_type": "code",
   "execution_count": 250,
   "metadata": {
    "collapsed": true
   },
   "outputs": [],
   "source": [
    "# Predict\n",
    "# observations_test = [observations_matrix[0][0]]\n",
    "states_test = []\n",
    "for obeservation_alone in observations_data:\n",
    "    model_score = np.zeros(6)\n",
    "    for i in range(6):\n",
    "        model_name = '%s%d%s'%('model_',i,'.pkl')\n",
    "    #     model_name = os.path.join(cwd, model_name)\n",
    "        model = joblib.load(model_name) #调用模型model_i.pkl\n",
    "        model_score[i] = model.score([obeservation_alone])\n",
    "#     print(model_score)\n",
    "    model_score = model_score.tolist()\n",
    "    states_alone_index = model_score.index(max(model_score))\n",
    "    states_test_alone = stations[states_alone_index]\n",
    "    states_test.append(states_test_alone)\n"
   ]
  },
  {
   "cell_type": "code",
   "execution_count": 251,
   "metadata": {},
   "outputs": [
    {
     "name": "stdout",
     "output_type": "stream",
     "text": [
      "accuracy: 0.27291494632535096\n"
     ]
    },
    {
     "data": {
      "image/png": "[encoded data removed]",
      "text/plain": [
       "<matplotlib.figure.Figure at 0x1e773320>"
      ]
     },
     "metadata": {},
     "output_type": "display_data"
    },
    {
     "data": {
      "image/png": "[encoded data removed]",
      "text/plain": [
       "<matplotlib.figure.Figure at 0x1ab46898>"
      ]
     },
     "metadata": {},
     "output_type": "display_data"
    }
   ],
   "source": [
    "# 在训练集上的准确率 标记数组为states，检测标记为states_test\n",
    "count = 0\n",
    "for i in range(len(states)):\n",
    "    if(states[i] == states_test[i]):\n",
    "        count+=1\n",
    "accuracy = count/len(states)\n",
    "print(\"accuracy:\",accuracy)\n",
    "# 将数据保存到excel，方便分析\n",
    "pd.DataFrame(states_test).to_excel(\"states_test.xlsx\",sheet_name=\"states_test\",index=False,header=True)\n",
    "pd.DataFrame(states).to_excel(\"states.xlsx\",sheet_name=\"states\",index=False,header=True)\n",
    "plt.plot(states[:225])\n",
    "plt.title(\"标记睡眠分期\")\n",
    "plt.show()\n",
    "plt.plot(states_test[:225])\n",
    "plt.title(\"HMM睡眠分期\")\n",
    "plt.show()"
   ]
  },
  {
   "cell_type": "code",
   "execution_count": 252,
   "metadata": {},
   "outputs": [
    {
     "name": "stdout",
     "output_type": "stream",
     "text": [
      "Writing data of: slp02a\n",
      "\n",
      " Done.\n"
     ]
    }
   ],
   "source": [
    "# 获取测试数据\n",
    "file_for_test = 'slp02a'\n",
    "fid = open(file_test,\"w\")\n",
    "print(\"Writing data of:\",file_for_test)\n",
    "file = os.path.join(cwd, 'slpdb_dl_dir', file_for_test)\n",
    "data_for_train = write_tag_observation(file)\n",
    "    \n",
    "for line in data_for_train:\n",
    "    fid.write(line[0]+\",\")\n",
    "    for content in line[1]:\n",
    "        fid.write(str(content)+\",\")\n",
    "    fid.write(\"\\n\")\n",
    "        \n",
    "fid.close()\n",
    "print(\"\\n Done.\")\n",
    "\n",
    "        "
   ]
  },
  {
   "cell_type": "code",
   "execution_count": 253,
   "metadata": {},
   "outputs": [
    {
     "data": {
      "text/plain": [
       "array([[ 3.,  3.,  3., ...,  3.,  3.,  3.],\n",
       "       [ 3.,  3.,  3., ...,  3.,  3.,  3.],\n",
       "       [ 5.,  5.,  5., ...,  5.,  5.,  5.],\n",
       "       ...,\n",
       "       [11., 11., 11., ..., 11., 11., 11.],\n",
       "       [ 9.,  9.,  9., ...,  9.,  9.,  9.],\n",
       "       [15., 15., 15., ..., 15., 15., 15.]])"
      ]
     },
     "execution_count": 253,
     "metadata": {},
     "output_type": "execute_result"
    }
   ],
   "source": [
    "\n",
    "with open(file_test,\"r\") as fid:\n",
    "    note = fid.readlines()\n",
    "    test_tag = []\n",
    "    T = 960 \n",
    "    test_data= np.empty((len(note),T))\n",
    "    i = 0\n",
    "    for line in note:\n",
    "        line_new = line.split(\",\")\n",
    "        test_tag.append(line_new[0][0])\n",
    "        test_data[i] = int(line_new[1])\n",
    "        i+=1\n",
    "test_data"
   ]
  },
  {
   "cell_type": "code",
   "execution_count": 254,
   "metadata": {},
   "outputs": [],
   "source": [
    "# Predict\n",
    "states_test = []\n",
    "for obeservation_alone in test_data:\n",
    "    model_score = np.zeros(6)\n",
    "    for i in range(6):\n",
    "        model_name = '%s%d%s'%('model_',i,'.pkl')\n",
    "    #     model_name = os.path.join(cwd, model_name)\n",
    "        model = joblib.load(model_name) #调用模型model_i.pkl\n",
    "        model_score[i] = model.score([obeservation_alone])\n",
    "#     print(model_score)\n",
    "    model_score = model_score.tolist()\n",
    "    states_alone_index = model_score.index(max(model_score))\n",
    "    states_test_alone = stations[states_alone_index]\n",
    "    states_test.append(states_test_alone)"
   ]
  },
  {
   "cell_type": "code",
   "execution_count": 255,
   "metadata": {},
   "outputs": [
    {
     "name": "stdout",
     "output_type": "stream",
     "text": [
      "accuracy: 0.42318840579710143\n"
     ]
    },
    {
     "data": {
      "image/png": "[encoded data removed]",
      "text/plain": [
       "<matplotlib.figure.Figure at 0x1ae23e10>"
      ]
     },
     "metadata": {},
     "output_type": "display_data"
    },
    {
     "data": {
      "image/png": "[encoded data removed]",
      "text/plain": [
       "<matplotlib.figure.Figure at 0x15c5dcc0>"
      ]
     },
     "metadata": {},
     "output_type": "display_data"
    }
   ],
   "source": [
    "st = test_tag\n",
    "# 在测试集上的准确率 标记数组为st，检测标记为states_test\n",
    "count = 0\n",
    "for i in range(len(st)):\n",
    "    if(st[i] == states_test[i]):\n",
    "        count+=1\n",
    "accuracy = count/len(st)\n",
    "print(\"accuracy:\",accuracy)\n",
    "# 将数据保存到excel，方便分析\n",
    "pd.DataFrame(states_test).to_excel(\"states_test.xlsx\",sheet_name=\"states_test\",index=False,header=True)\n",
    "pd.DataFrame(st).to_excel(\"states.xlsx\",sheet_name=\"states\",index=False,header=True)\n",
    "\n",
    "plt.plot(st)\n",
    "plt.title(\"标记睡眠分期\")\n",
    "plt.show()\n",
    "\n",
    "plt.plot(states_test)\n",
    "plt.title(\"HMM睡眠分期\")\n",
    "plt.show()"
   ]
  },
  {
   "cell_type": "code",
   "execution_count": null,
   "metadata": {},
   "outputs": [],
   "source": [
    "\n"
   ]
  }
 ],
 "metadata": {
  "kernelspec": {
   "display_name": "Python 3",
   "language": "python",
   "name": "python3"
  },
  "language_info": {
   "codemirror_mode": {
    "name": "ipython",
    "version": 3
   },
   "file_extension": ".py",
   "mimetype": "text/x-python",
   "name": "python",
   "nbconvert_exporter": "python",
   "pygments_lexer": "ipython3",
   "version": "3.6.3"
  }
 },
 "nbformat": 4,
 "nbformat_minor": 2
}
