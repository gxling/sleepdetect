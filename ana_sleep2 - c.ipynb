{
 "cells": [
  {
   "cell_type": "code",
   "execution_count": 345,
   "metadata": {
    "collapsed": true
   },
   "outputs": [],
   "source": [
    "#!/usr/bin/env python3\n",
    "# -*- coding: utf-8 -*-\n",
    "\n",
    "import numpy as np\n",
    "import pandas as pd\n",
    "from scipy import signal\n",
    "from pylab import *\n",
    "import os\n",
    "import matplotlib.pyplot as plt\n",
    "plt.rcParams['font.sans-serif'] = ['SimHei'] #用来正常显示中文标签\n",
    "plt.rcParams['axes.unicode_minus'] = False #用来正常显示负号\n",
    "fs = 256\n",
    "\n",
    "def rd(filename):\n",
    "    # filename = 'X:/3_2 运动算法资料/4_data/data.dat'\n",
    "    fid = open(filename, 'rb')\n",
    "    fid1 = fid.read()\n",
    "\n",
    "    data = []\n",
    "    ecg = []\n",
    "    acc = []\n",
    "    acc_x = []\n",
    "    acc_y = []\n",
    "    acc_z = []\n",
    "    #根据.dat写入格式，将两个8位组合成一个数据\n",
    "    for i in range(0, len(fid1), 2):\n",
    "        if fid1[i] >> 7 == 1:\n",
    "            data.append(((fid1[i] - pow(2, 8)) << 8) + fid1[i+1])\n",
    "        else:\n",
    "          data.append((fid1[i] << 8) + fid1[i+1])\n",
    "    fid.close()\n",
    "\n",
    "    #根据数据存储格式，将数组切片，前5位为ecg数据，后3位为三轴加速度数据\n",
    "    for i in range(0,len(data),8):\n",
    "        for j in range(5):\n",
    "            ecg.append(data[i+j])\n",
    "        acc_x.append(data[i+5])\n",
    "        acc_y.append(data[i+6])\n",
    "        acc_z.append(data[i+7])\n",
    "        acc.append(np.linalg.norm( [data[i+5], data[i+6], data[i+7]], ord=2))#加速度二范数\n",
    "\n",
    "    return ecg, acc, acc_x, acc_y, acc_z\n"
   ]
  },
  {
   "cell_type": "code",
   "execution_count": 346,
   "metadata": {
    "collapsed": true
   },
   "outputs": [],
   "source": [
    "# butter带通滤波\n",
    "def butter_bandpass(data, fre, lowcut, highcut, order):\n",
    "    nyq = 0.5 * fre\n",
    "    low = lowcut / nyq\n",
    "    high = highcut / nyq\n",
    "    b, a = signal.butter(order, [low, high], btype='band')\n",
    "    new_sig = signal.filtfilt(b, a, data)\n",
    "    return b, a, new_sig\n",
    "# 对于丢数片段，进行插值处理，权重向量计算\n",
    "def interpolat(acc):\n",
    "    #以下求权重向量w_i\n",
    "    n = fs #需要拟合的点的数量\n",
    "    w_ii = [1/(n-ii) for ii in range(n)]\n",
    "    w_i = [x / sum(w_ii) for x in w_ii]\n",
    "    for num in range(len(acc)):\n",
    "        if acc[num] == 0:\n",
    "            if num > fs:\n",
    "                acc_i = acc[num-n: num]\n",
    "            else:\n",
    "                acc_i = acc[num+1: num+n+1]\n",
    "            acc[num] = sum(np.multiply(w_i, acc_i))\n",
    "    return acc\n",
    "\n",
    "# # 设置动态阈值\n",
    "def thr_mean(acc_norm): # 其中acc_norm长度为1分钟的倍数\n",
    "    acc_norm2 = acc_norm.reshape(t, 1, 3072) #创建3维矩阵\n",
    "    acc_mean_t = [np.mean(acc_norm2[tt, :, :]) for tt in range(t)]\n",
    "    acc_mean = np.dot(np.transpose([acc_mean_t]), ones((1,3072))).reshape(t*3072)\n",
    "    plt.plot(acc_norm)\n",
    "    plt.plot(acc_mean)\n",
    "    plt.show()\n",
    "    return acc_mean\n",
    "\n",
    "# 通过积分方法PIM计算活动量\n",
    "# 具体算法1：以每分钟为计数单位，将每分钟分为6个10s片段，求6个片段中的积分最大值\n",
    "def pim(acc_norm, thr):\n",
    "    acc_norm = abs(acc_norm - thr)\n",
    "    acc_norm = acc_norm.reshape(t, 6, 512) #创建3维矩阵\n",
    "    # 计算每个epoch=10s的积分，并求最大\n",
    "    delte = 1/(fs/5)\n",
    "    acc_pim = []\n",
    "    for epoch in range(t):\n",
    "        acc_epoch = delte*sum(acc_norm[epoch, :, i] for i in range(512))\n",
    "        acc_pim.append(max(acc_epoch))\n",
    "    \n",
    "    return acc_pim\n",
    "\n",
    "# 过零检测模式ZCM来计算活动计数\n",
    "def zcm(acc_norm, thr_zcm):\n",
    "    thr_zcm = thr_zcm*ones(len(acc_norm))\n",
    "    acc_zcm = acc_norm - thr_zcm\n",
    "    acc_zcm = acc_zcm.reshape(t,3072) #3072为1min的采样点\n",
    "    zcm_count = []\n",
    "    for tt in range(t):\n",
    "        c=0\n",
    "        for sam in range(3071):\n",
    "            if acc_zcm[tt,sam]*acc_zcm[tt,sam+1]<0:\n",
    "                c+=1\n",
    "        zcm_count.append(c)\n",
    "    return zcm_count\n",
    "# 时间阈值模式TAT来计算活动计数\n",
    "def tat(acc_norm, thr_tat):\n",
    "    thr_tat = thr_tat*ones(len(acc_norm))\n",
    "    acc_tat = acc_norm - thr_tat\n",
    "    acc_tat = acc_tat.reshape(t,3072) #3072为1min的采样点\n",
    "    tat_count = []\n",
    "    for tt in range(t):\n",
    "        c=0\n",
    "        for sam in range(3071):\n",
    "            if acc_tat[tt,sam]>0:\n",
    "                c+=1\n",
    "        tat_count.append(c)\n",
    "    return tat_count\n",
    "\n",
    "\n",
    "#   Webster's算法\n",
    "def webster(acc_act):\n",
    "    D = list(zeros(4)) #暂时将前4分钟及后2分钟赋值为0，后面会再次赋值\n",
    "    for i in range(4, t-2):\n",
    "        w_d = array([0.15, 0.15, 0.15, 0.08, 0.21, 0.12, 0.13])\n",
    "        a_i = array(acc_act[i-4: i+3])\n",
    "        d_i = 0.025*sum(w_d * a_i)\n",
    "        D.append(d_i)\n",
    "    D = D + list(zeros(2))\n",
    "    return D"
   ]
  },
  {
   "cell_type": "code",
   "execution_count": 347,
   "metadata": {
    "collapsed": true
   },
   "outputs": [],
   "source": [
    "# 批量读取数据\n",
    "##当使用固定阈值1g时，th_sleep=28,th_deep=16 此阈值设置偏高，易把久坐不动判断为睡眠状态\n",
    "# th_sleep=18,th_deep=5  此阈值设置偏低，易把睡眠状态判断为清醒\n",
    "#当使用动态阈值acc_mean时,th_sleep=5,th_deep=1 仍将部分久坐判断为睡眠，那么考虑频谱分析\n",
    "# path = \"F:/工作任务/睡眠监测/data/CA-30-F3-FF-FE-CD2-9/9403\"#文件夹目录 \n",
    "path = \"F:/工作任务/睡眠监测/data/2018/2/10/FC-00-00-00-00-4F/43509\" \n",
    "# path = \"F:/工作任务/睡眠监测/data/2018/2/4/FC-00-00-00-00-4F/43284\" \n",
    "# path = \"F:/工作任务/睡眠监测/data/FC-00-00-00-00-4F/9442\" \n",
    "# path = \"F:/工作任务/睡眠监测/data/FC-00-00-00-00-4F/9443\" \n",
    "# path = \"F:/工作任务/睡眠监测/data/FC-00-00-00-00-4F/9445\" \n",
    "# path = \"F:/工作任务/睡眠监测/data/FC-00-00-00-00-4F/9454\" \n",
    "# path = \"F:/工作任务/睡眠监测/data/14/FC-00-00-00-00-4F/9701\"\n",
    "# path = \"F:/工作任务/睡眠监测/data/2018/3/21/FC-00-00-00-00-4F/9859\"\n",
    "# path = \"F:/工作任务/睡眠监测/data/2018/3/21/FC-00-00-00-00-4F/9860\"\n",
    "# path = \"F:/工作任务/睡眠监测/data/2018/3/21/FC-00-00-00-00-4F/9862\"\n",
    "# path = \"X:/3_2 运动算法资料/4_data/Text2018-02-06/FC-00-00-00-00-4F/43285\"\n",
    "\n",
    "\n",
    "\n",
    "files = os.listdir(path) #得到文件夹下的所有文件名称\n",
    "acc_norm = []\n",
    "acc_x = []\n",
    "acc_y = []\n",
    "acc_z = []\n",
    "for file in files:#遍历文件夹\n",
    "    file = os.path.join(path, file)\n",
    "    if os.path.isdir(file): #判断是否是文件夹，是文件夹才打开\n",
    "        filename = file + \"/\" + \"data.dat\" #data.dat文件目录\n",
    "        data = rd(filename)[1] #调用data_reading模块，返回加速度二范数（共5个返回值中的第2个）\n",
    "#         data_x = rd(filename)[2]\n",
    "#         data_y = rd(filename)[3]\n",
    "#         data_z = rd(filename)[4]\n",
    "        \n",
    "        acc_norm.extend(data)\n",
    "#         acc_x.extend(data_x)\n",
    "#         acc_y.extend(data_y)\n",
    "#         acc_z.extend(data_z)\n",
    "        \n",
    "\n",
    "# 读取单个文件数据\n",
    "# filename = \"F:/工作任务/睡眠监测/data/CA-30-F3-FF-FE-CD2-9/9403/18-02-09 05-33-20/data.dat\"\n",
    "# acc_norm = data_reading.rd(filename)[1]\n",
    "\n"
   ]
  },
  {
   "cell_type": "code",
   "execution_count": 348,
   "metadata": {},
   "outputs": [],
   "source": [
    "# 将加速度数据存为txt，移植c用\n",
    "# f = open(path+\"/\" +'43285.txt', 'w')\n",
    "# f.write(str(acc_norm))\n",
    "# f.close\n",
    "\n",
    "np.savetxt('X:/3_2 运动算法资料/4_data/Text2018-02-06/FC-00-00-00-00-4F/43285/43285.txt', acc_norm)\n"
   ]
  },
  {
   "cell_type": "code",
   "execution_count": 349,
   "metadata": {},
   "outputs": [
    {
     "name": "stdout",
     "output_type": "stream",
     "text": [
      "00:18:22\n",
      "18\n",
      "1102\n"
     ]
    }
   ],
   "source": [
    "# 读取起始文件名，获得监测时间\n",
    "\n",
    "def t2s(t):\n",
    "    h,m,s = t.strip().split(\":\")\n",
    "    return int(h) * 3600 + int(m) * 60 + int(s)\n",
    "def t2m(t):\n",
    "    h,m,s = t.strip().split(\":\")\n",
    "    return int(h) * 60 + int(m) \n",
    "def s2t(seconds):\n",
    "    m, s = divmod(seconds, 60)\n",
    "    h, m = divmod(m, 60)\n",
    "    return \"%02d:%02d:%02d\" % (h, m, s)\n",
    "def m2t(minutes):\n",
    "    h, m = divmod(minutes, 60)\n",
    "    s = 0\n",
    "    if h >=24:\n",
    "        h-=24\n",
    "    return \"%02d:%02d\" % (h, m)\n",
    "\n",
    "t_start = files[0][9:].replace('-',':')\n",
    "m_start = t2m(t_start)\n",
    "s_start = t2s(t_start)\n",
    "print(t_start)\n",
    "print(m_start)\n",
    "print(s_start)"
   ]
  },
  {
   "cell_type": "code",
   "execution_count": 350,
   "metadata": {},
   "outputs": [
    {
     "data": {
      "image/png": "[encoded data removed]",
      "text/plain": [
       "<matplotlib.figure.Figure at 0x1285f128>"
      ]
     },
     "metadata": {},
     "output_type": "display_data"
    }
   ],
   "source": [
    "axis_s = range(m_start*3072,m_start*3072+len(acc_norm))\n",
    "\n",
    "plt.xticks([tt for tt in range(m_start*3072,m_start*3072+len(acc_norm),3072*60)],\n",
    "  [m2t(tt/3072) for tt in range(m_start*3072,m_start*3072+len(acc_norm),3072*60)])\n",
    "\n",
    "plt.title(\"raw acc_norm\")\n",
    "plt.plot(axis_s, acc_norm)\n",
    "plt.show()\n",
    "\n"
   ]
  },
  {
   "cell_type": "code",
   "execution_count": 351,
   "metadata": {},
   "outputs": [
    {
     "data": {
      "image/png": "[encoded data removed]",
      "text/plain": [
       "<matplotlib.figure.Figure at 0x13c682e8>"
      ]
     },
     "metadata": {},
     "output_type": "display_data"
    }
   ],
   "source": [
    "#对于丢数的片段（最长不超过5s），通过插值法补数\n",
    "\n",
    "acc_norm = interpolat(acc_norm)\n",
    "\n",
    "plt.title(\"acc_norm after interpolation\")\n",
    "plt.xticks([tt for tt in range(m_start*3072,m_start*3072+len(acc_norm),3072*60)],\n",
    "  [m2t(tt/3072) for tt in range(m_start*3072,m_start*3072+len(acc_norm),3072*60)])\n",
    "\n",
    "\n",
    "plt.plot(axis_s, acc_norm)\n",
    "plt.show()\n",
    "\n",
    "# plt.title(\"acc_x\")\n",
    "# plt.plot(interpolat(acc_x))\n",
    "# plt.show()\n",
    "# plt.title(\"acc_y\")\n",
    "# plt.plot(interpolat(acc_y))\n",
    "# plt.show()\n",
    "# plt.title(\"acc_z\")\n",
    "# plt.plot(interpolat(acc_z))\n",
    "# plt.show()"
   ]
  },
  {
   "cell_type": "code",
   "execution_count": 352,
   "metadata": {},
   "outputs": [],
   "source": [
    "temp_x=[0,0,0,0,0,0,0]\n",
    "temp_y=[0,0,0,0,0,0,0]\n",
    "butter_i=0\n",
    "y=0\n",
    "def butter_bandpass_by_one(x):\n",
    "    global y\n",
    "    global butter_i\n",
    "#     b = [0.6404957,0.,-1.92148711,0.,1.92148711,0., -0.6404957]\n",
    "#     a = [1.,0.09825509, -2.11845638, -0.11905002,1.58884383,0.04037319,-0.41018215]\n",
    "    b = [0.10454208, 0., -0.31362623, 0., 0.31362623, 0., -0.10454208]\n",
    "    a = [ 1., -3.3496998, 4.54411275, -3.46002677, 1.74365223, -0.52770977, 0.0498888]\n",
    "\n",
    "    temp_x[6] = temp_x[5]\n",
    "    temp_x[5] = temp_x[4]\n",
    "    temp_x[4] = temp_x[3]\n",
    "    temp_x[3] = temp_x[2]\n",
    "    temp_x[2] = temp_x[1]\n",
    "    temp_x[1] = temp_x[0]\n",
    "    temp_x[0] = x\n",
    "\n",
    "    if(butter_i<6):\n",
    "        butter_i+=1\n",
    "        return 0\n",
    "    \n",
    "    y = y + b[0]*temp_x[0]+b[1]*temp_x[1]+b[2]*temp_x[2]+b[3]*temp_x[3]+b[4]*temp_x[4]+b[5]*temp_x[5]+b[6]*temp_x[6]\n",
    "\n",
    "    y = y - a[1]*temp_y[1]-a[2]*temp_y[2]-a[3]*temp_y[3]-a[4]*temp_y[4]-a[5]*temp_y[5]-a[6]*temp_y[6]\n",
    "\n",
    "    temp_y[6] = temp_y[5]\n",
    "    temp_y[5] = temp_y[4]\n",
    "    temp_y[4] = temp_y[3]\n",
    "    temp_y[3] = temp_y[2]\n",
    "    temp_y[2] = temp_y[1]\n",
    "    temp_y[1] = y\n",
    "    return y"
   ]
  },
  {
   "cell_type": "code",
   "execution_count": 353,
   "metadata": {},
   "outputs": [
    {
     "data": {
      "image/png": "[encoded data removed]",
      "text/plain": [
       "<matplotlib.figure.Figure at 0x1411f780>"
      ]
     },
     "metadata": {},
     "output_type": "display_data"
    },
    {
     "name": "stdout",
     "output_type": "stream",
     "text": [
      "b: [ 0.10454208  0.         -0.31362623  0.          0.31362623  0.\n",
      " -0.10454208]\n",
      "a: [ 1.         -3.3496998   4.54411275 -3.46002677  1.74365223 -0.52770977\n",
      "  0.0498888 ]\n"
     ]
    },
    {
     "data": {
      "text/plain": [
       "array([ 6.14051748e+00,  2.38859299e+00, -4.29588077e+00, -8.06897090e+00,\n",
       "       -5.54319959e+00,  1.48965158e-01,  3.40485654e+00,  2.31032321e+00,\n",
       "       -5.60470438e-01, -2.36570312e+00, -3.26543841e+00, -4.72927761e+00,\n",
       "       -6.13685137e+00, -5.33085007e+00, -1.89991501e+00,  2.07159823e+00,\n",
       "        4.12256318e+00,  3.32946769e+00,  8.23594761e-01, -1.32520292e+00,\n",
       "       -2.15860123e+00, -1.88350986e+00, -5.67611191e-03,  3.83973837e+00,\n",
       "        7.02761085e+00,  5.78690349e+00,  7.84282612e-01, -2.76387143e+00,\n",
       "       -1.65509795e+00,  1.64224970e+00,  3.03252256e+00,  1.84095945e+00,\n",
       "        1.58618120e-01, -8.12896344e-01, -1.43980056e+00, -1.65115014e+00,\n",
       "       -7.95998940e-01,  3.85539293e-01,  1.70026092e-01, -9.28374891e-01,\n",
       "       -3.12710196e-01,  1.89462279e+00,  2.19369044e+00, -2.43911939e-01,\n",
       "       -1.69175719e+00,  2.24665536e-01,  3.39227103e+00,  4.63627664e+00,\n",
       "        2.70105076e+00, -1.54871574e+00, -5.34692988e+00, -5.61742979e+00,\n",
       "       -2.25653220e+00,  1.27740327e+00,  1.83515283e+00, -3.25540519e-01,\n",
       "       -2.83517256e+00, -3.75066429e+00, -2.53278605e+00, -2.25917677e-01,\n",
       "        1.33540121e+00,  1.49263021e+00,  1.36824249e+00,  2.01141413e+00,\n",
       "        2.89529393e+00,  2.77101681e+00,  1.12694769e+00, -1.43860430e+00,\n",
       "       -3.21610091e+00, -2.13289892e+00,  1.74440785e+00,  4.93784684e+00,\n",
       "        3.82231201e+00, -8.32042758e-01, -4.25053716e+00, -3.18703338e+00,\n",
       "        1.96502476e-01,  1.28803618e+00, -8.89018432e-01, -2.83523081e+00,\n",
       "       -2.21459162e+00, -1.09330764e+00, -1.66571384e+00, -2.32669482e+00,\n",
       "       -8.97938788e-01,  1.15324490e+00,  7.72839425e-01, -1.82051852e+00,\n",
       "       -2.79031651e+00,  4.28741452e-01,  5.21553396e+00,  6.38388540e+00,\n",
       "        2.35283465e+00, -3.07153998e+00, -4.58204145e+00, -2.44867055e-01,\n",
       "        6.00512666e+00,  7.23660613e+00,  1.14504205e+00, -6.57912809e+00])"
      ]
     },
     "execution_count": 353,
     "metadata": {},
     "output_type": "execute_result"
    }
   ],
   "source": [
    "# 进行butter带通滤波\n",
    "data = acc_norm\n",
    "fre = 51.2\n",
    "lowcut = 0.5\n",
    "highcut = 11\n",
    "order = 3\n",
    "acc_norm_butter=[]\n",
    "b, a, acc_norm_butter = butter_bandpass(data, fre, lowcut, highcut, order)\n",
    "plt.title(\"acc_butter through butter filter\")\n",
    "plt.xticks([tt for tt in range(m_start*3072,m_start*3072+len(acc_norm),3072*30)],\n",
    "  [m2t(tt/3072) for tt in range(m_start*3072,m_start*3072+len(acc_norm),3072*30)])\n",
    "\n",
    "plt.plot(axis_s, acc_norm)\n",
    "plt.plot(axis_s, acc_norm_butter)\n",
    "plt.show()\n",
    "\n",
    "acc_norm = acc_norm_butter\n",
    "\n",
    "print('b:',b)\n",
    "print('a:',a)\n",
    "acc_norm[10000:10100]\n",
    "\n",
    "\n"
   ]
  },
  {
   "cell_type": "code",
   "execution_count": 354,
   "metadata": {},
   "outputs": [
    {
     "data": {
      "image/png": "[encoded data removed]",
      "text/plain": [
       "<matplotlib.figure.Figure at 0x13c68128>"
      ]
     },
     "metadata": {},
     "output_type": "display_data"
    },
    {
     "name": "stdout",
     "output_type": "stream",
     "text": [
      "(803580,)\n"
     ]
    }
   ],
   "source": [
    "\n",
    "fid = open('X:/3_2 运动算法资料/4_data/Text2018-02-06/FC-00-00-00-00-4F/43285/43285_c.txt', 'r')\n",
    "# acc_c = fid.read()\n",
    "# fid.close\n",
    "# acc_c[100]\n",
    "\n",
    "df = pd.read_csv(fid,encoding = 'utf-8',header=None)#因为路径含中文，故不能直接读\n",
    "# acc_c = df.values\n",
    "acc_c = np.array(df)\n",
    "acc_c = acc_c.reshape(len(acc_c))\n",
    "fid.close()\n",
    "\n",
    "plt.plot(acc_c )\n",
    "plt.show()\n",
    "\n",
    "print(shape(acc_c))\n",
    "\n",
    "acc_norm = acc_c"
   ]
  },
  {
   "cell_type": "code",
   "execution_count": 355,
   "metadata": {},
   "outputs": [
    {
     "data": {
      "text/plain": [
       "array([0., 0., 0., 0., 0., 0., 0., 0., 0., 0., 0., 0., 0., 0., 0., 0., 0.,\n",
       "       0., 0., 0., 0., 0., 0., 0., 0., 0., 0., 0., 0., 0., 0., 0., 0., 0.,\n",
       "       0., 0., 0., 0., 0., 0., 0., 0., 0., 0., 0., 0., 0., 0., 0., 0., 0.,\n",
       "       0., 0., 0., 0., 0., 0., 0., 0., 0., 0., 0., 0., 0., 0., 0., 0., 0.,\n",
       "       0., 0., 0., 0., 0., 0., 0., 0., 0., 0., 0., 0., 0., 0., 0., 0., 0.,\n",
       "       0., 0., 0., 0., 0., 0., 0., 0., 0., 0., 0., 0., 0., 0., 0.])"
      ]
     },
     "execution_count": 355,
     "metadata": {},
     "output_type": "execute_result"
    }
   ],
   "source": [
    "acc_c[10000:10100]"
   ]
  },
  {
   "cell_type": "code",
   "execution_count": 356,
   "metadata": {
    "collapsed": true
   },
   "outputs": [],
   "source": [
    "# 活动计数\n",
    "\n",
    "# 通过积分方法PIM计算活动量\n",
    "# 具体算法1：以每分钟为计数单位，将每分钟分为6个10s片段，求6个片段中的积分最大值\n",
    "num_epoch = int(len(acc_norm)/(2*fs)) #10 s片段数量\n",
    "t = int(num_epoch/6) #1 minute片段数量\n",
    "acc_norm = array(acc_norm[:int(12*fs*t)])\n",
    "\n",
    "\n",
    "# 通过积分方法PIM计算活动量\n",
    "thr_h = 0 #设置固定阈值为0\n",
    "# thr = thr_mean(acc_norm)\n",
    "thr = thr_h*ones(len(acc_norm))#带通滤波后，选择0为阈值\n",
    "acc_pim = pim(acc_norm, thr)\n",
    "\n",
    "# 通过过零点ZCM计算活动量\n",
    "thr_zcm = 30\n",
    "acc_zcm = zcm(acc_norm, thr_zcm)\n",
    "\n",
    "# 通过时间窗口模式TAT计算活动量\n",
    "thr_tat = 30\n",
    "acc_tat = tat(acc_norm, thr_tat)\n",
    "\n",
    "\n"
   ]
  },
  {
   "cell_type": "code",
   "execution_count": 357,
   "metadata": {},
   "outputs": [
    {
     "data": {
      "image/png": "[encoded data removed]",
      "text/plain": [
       "<matplotlib.figure.Figure at 0x16825ac8>"
      ]
     },
     "metadata": {},
     "output_type": "display_data"
    },
    {
     "data": {
      "image/png": "[encoded data removed]",
      "text/plain": [
       "<matplotlib.figure.Figure at 0x1ce22240>"
      ]
     },
     "metadata": {},
     "output_type": "display_data"
    },
    {
     "data": {
      "image/png": "[encoded data removed]",
      "text/plain": [
       "<matplotlib.figure.Figure at 0x134ca7b8>"
      ]
     },
     "metadata": {},
     "output_type": "display_data"
    }
   ],
   "source": [
    "#更新横坐标\n",
    "axis_m = range(m_start,t+m_start)\n",
    "# axis_t = [m2t(a) for a in axis_m]\n",
    "\n",
    "# ax1=plt.subplot(111)\n",
    "# xmajorLocator = MultipleLocator(60)\n",
    "# ax.xaxis.set_major_locator(xmajorLocator) \n",
    "\n",
    "# 做映射，设置x刻度：用axis_t来显示刻度\n",
    "plt.title(\"score of each minute by PIM(red)/ZCM(blue) \")\n",
    "plt.xticks([tt for tt in range(m_start,t+m_start,60)],\n",
    "  [m2t(tt) for tt in range(m_start,t+m_start,60)])\n",
    "\n",
    "plt.plot(axis_m, acc_pim, 'r')\n",
    "plt.plot(axis_m, acc_zcm, 'b')\n",
    "# plt.savefig(\"活动量-PIM\")\n",
    "plt.show()\n",
    "\n",
    "plt.title(\"score of each minute by ZCM(blue) \")\n",
    "plt.xticks([tt for tt in range(m_start,t+m_start,60)],\n",
    "  [m2t(tt) for tt in range(m_start,t+m_start,60)])\n",
    "\n",
    "plt.plot(axis_m, acc_zcm, 'b')\n",
    "# plt.savefig(\"活动量-PIM\")\n",
    "plt.show()\n",
    "\n",
    "plt.title(\"score of each minute by TAT \")\n",
    "plt.xticks([tt for tt in range(m_start,t+m_start,60)],\n",
    "  [m2t(tt) for tt in range(m_start,t+m_start,60)])\n",
    "\n",
    "plt.plot(axis_m, acc_tat, 'b')\n",
    "plt.show()"
   ]
  },
  {
   "cell_type": "code",
   "execution_count": 358,
   "metadata": {},
   "outputs": [
    {
     "data": {
      "image/png": "[encoded data removed]",
      "text/plain": [
       "<matplotlib.figure.Figure at 0x1321bd68>"
      ]
     },
     "metadata": {},
     "output_type": "display_data"
    },
    {
     "data": {
      "image/png": "[encoded data removed]",
      "text/plain": [
       "<matplotlib.figure.Figure at 0x140c7080>"
      ]
     },
     "metadata": {},
     "output_type": "display_data"
    }
   ],
   "source": [
    "#   Webster's算法 D = 0.025(0.15A_4 + 0.15A_3 + 0.15A_2 + 0.08A_l + 0.21Ao + 0.12A+l + 0.13A+2)\n",
    "# acc_act = acc_pim #积分法计数获得的按分钟活动量\n",
    "# acc_act = acc_zcm #过零点法计数获得的按分钟活动量\n",
    "                     \n",
    "D_pim = webster(acc_pim)\n",
    "D_zcm = webster(acc_zcm)\n",
    "\n",
    "plt.title(\"Webster's score by PIM\")\n",
    "plt.xticks([tt for tt in range(m_start,t+m_start,60)],\n",
    "  [m2t(tt) for tt in range(m_start,t+m_start,60)])\n",
    "plt.plot(axis_m, D_pim)\n",
    "plt._show()\n",
    "\n",
    "plt.title(\"Webster's score by ZCM\")\n",
    "plt.xticks([tt for tt in range(m_start,t+m_start,60)],\n",
    "  [m2t(tt) for tt in range(m_start,t+m_start,60)])\n",
    "plt.plot(axis_m, D_zcm)\n",
    "plt._show()"
   ]
  },
  {
   "cell_type": "code",
   "execution_count": 359,
   "metadata": {
    "scrolled": true
   },
   "outputs": [
    {
     "data": {
      "image/png": "[encoded data removed]",
      "text/plain": [
       "<matplotlib.figure.Figure at 0x13c68b70>"
      ]
     },
     "metadata": {},
     "output_type": "display_data"
    },
    {
     "name": "stdout",
     "output_type": "stream",
     "text": [
      "(261,)\n"
     ]
    },
    {
     "data": {
      "image/png": "[encoded data removed]",
      "text/plain": [
       "<matplotlib.figure.Figure at 0x1418e160>"
      ]
     },
     "metadata": {},
     "output_type": "display_data"
    },
    {
     "data": {
      "image/png": "[encoded data removed]",
      "text/plain": [
       "<matplotlib.figure.Figure at 0x131ee240>"
      ]
     },
     "metadata": {},
     "output_type": "display_data"
    }
   ],
   "source": [
    "#验证c输出的count_zcm,score_zcm\n",
    "filename = \"X:/3_2 运动算法资料/4_data/Text2018-02-06/FC-00-00-00-00-4F/43285/43285_count.txt\"\n",
    "fid = open(filename, 'r')\n",
    "\n",
    "df = pd.read_csv(fid,encoding = 'utf-8',header=None)#因为路径含中文，故不能直接读\n",
    "count_zcm = np.array(df)\n",
    "count_zcm = count_zcm.reshape(len(count_zcm))\n",
    "fid.close()\n",
    "plt.plot(count_zcm)\n",
    "plt.show()\n",
    "\n",
    "print(shape(count_zcm))\n",
    "\n",
    "\n",
    "filename = \"X:/3_2 运动算法资料/4_data/Text2018-02-06/FC-00-00-00-00-4F/43285/43285_zcm.txt\"\n",
    "fid = open(filename, 'r')\n",
    "\n",
    "df = pd.read_csv(fid,encoding = 'utf-8',header=None)#因为路径含中文，故不能直接读\n",
    "score_zcm = np.array(df)\n",
    "score_zcm = score_zcm.reshape(len(score_zcm))\n",
    "fid.close()\n",
    "plt.plot(score_zcm)\n",
    "plt.show()\n",
    "\n",
    "\n",
    "plt.plot(axis_m, D_zcm)\n",
    "plt._show()\n",
    "shape(D_zcm)\n",
    "\n",
    "D_zcm = score_zcm"
   ]
  },
  {
   "cell_type": "code",
   "execution_count": 360,
   "metadata": {
    "scrolled": false
   },
   "outputs": [
    {
     "data": {
      "image/png": "[encoded data removed]",
      "text/plain": [
       "<matplotlib.figure.Figure at 0x13189978>"
      ]
     },
     "metadata": {},
     "output_type": "display_data"
    },
    {
     "data": {
      "image/png": "[encoded data removed]",
      "text/plain": [
       "<matplotlib.figure.Figure at 0x12039a90>"
      ]
     },
     "metadata": {},
     "output_type": "display_data"
    },
    {
     "data": {
      "text/plain": [
       "dict_values([0.0, 0.0, 0.0, 0.0, 0.01125, 0.0, 0.0, 0.0, 0.0, 0.0, 0.0, 0.0, 0.0, 0.0, 0.0, 0.0, 0.0, 0.0, 0.0, 0.0, 0.0, 0.0, 0.0, 0.0, 0.0, 0.0, 0.0, 0.0, 0.0, 0.0, 0.0, 0.0, 0.0, 0.0, 0.0, 0.0, 0.0, 0.0, 0.0, 0.0, 0.0, 0.0, 0.0, 0.0, 0.0, 0.0, 0.0, 0.0, 0.0, 0.0, 0.0, 0.0, 0.0, 0.0, 0.0, 0.0, 0.0, 0.0, 0.0, 0.0, 0.0, 0.0, 0.0, 0.0, 0.0, 0.0, 0.0, 0.0, 0.0, 0.0, 0.0, 0.0, 0.0, 0.0, 0.0, 0.0, 0.0, 0.0, 0.0, 0.0, 0.0, 0.0, 0.0, 0.0, 0.0, 0.0, 0.0, 0.0, 0.0, 0.0, 0.0, 0.0, 0.0, 0.0, 0.0, 0.0, 0.0, 0.0, 0.0, 0.0, 0.0, 0.0, 0.0, 0.0, 0.0, 0.0, 0.0, 0.0, 0.0, 0.0, 0.0, 0.0, 0.0, 0.0, 0.0, 0.0, 0.0, 0.0, 0.0, 0.0, 0.0, 0.0, 0.0, 0.0, 0.0, 0.0, 0.0, 0.0, 0.0, 0.0, 0.0, 0.0, 0.0, 0.0, 0.0, 0.0, 0.0, 0.0, 0.0, 0.0, 0.0, 0.0, 0.0, 0.0, 0.0, 0.0, 0.0, 0.0, 0.0, 0.0, 0.0, 0.0, 0.0, 0.0, 0.0, 0.0, 0.0, 0.0, 0.0, 0.0, 0.0, 0.0, 0.0, 0.0, 0.0, 0.0, 0.0, 0.0, 0.0, 0.0, 0.0, 0.0, 0.0, 0.0, 0.0, 0.0, 0.0, 0.0, 0.0, 0.0, 0.0, 0.0, 0.0, 0.0, 0.0, 0.0, 0.0, 0.0, 0.0, 0.0, 0.0, 0.0, 0.0, 0.0, 0.0, 0.0, 0.0, 0.0, 0.0, 0.0, 0.0, 0.0, 0.0, 0.0, 0.0, 0.0, 0.0, 0.0, 0.0, 0.0, 0.0, 0.0, 0.0, 0.0, 0.0, 0.0, 0.0, 0.0, 0.0, 0.0, 0.0, 0.0, 0.0, 0.0, 0.0, 0.0, 0.0, 0.0, 0.0, 0.0, 0.0, 0.0, 0.0, 0.0, 0.0, 0.0, 0.0, 0.0, 0.0, 0.0, 0.0, 0.0, 0.0, 0.0, 0.0, 0.0, 0.0, 0.0, 0.0, 0.0, 0.0, 0.0, 0.0, 0.0, 0.0, 0.0, 0.0, 0.0, 0.0, 0.0, 0.0])"
      ]
     },
     "execution_count": 360,
     "metadata": {},
     "output_type": "execute_result"
    }
   ],
   "source": [
    "th_sleep = 0.8 #将sleep/wake阈值设置为20\n",
    "th_deep = 0.0001 #将deep/light-sleep阈值设置为10\n",
    "dic_D = {t: D_zcm[t] for t in range(t)}\n",
    "\n",
    "dic_score = dic_D.copy() #字典浅复制\n",
    "for i in range(4): #Webster's算法未计算的前4分钟状态同第5分钟\n",
    "    dic_score[i] = dic_score[4]\n",
    "for i in range(t-2,t): # 最后2分钟状态同前一分钟\n",
    "    dic_score[i] = dic_score[t-3]\n",
    "\n",
    "\n",
    "for key in dic_score.keys():\n",
    "    if  dic_score[key] > th_sleep:\n",
    "        dic_score[key] = 2\n",
    "    elif dic_score[key] > th_deep:\n",
    "        dic_score[key] = 1\n",
    "    else:\n",
    "        dic_score[key] = 0\n",
    "    # print(dic_score[key])\n",
    "    \n",
    "plt.xticks([tt for tt in range(m_start,t+m_start,60)],\n",
    "  [m2t(tt) for tt in range(m_start,t+m_start,60)])\n",
    "plt.plot(axis_m, dic_D.values())\n",
    "plt.show()\n",
    "plt.xticks([tt for tt in range(m_start,t+m_start,60)],\n",
    "  [m2t(tt) for tt in range(m_start,t+m_start,60)])\n",
    "plt.plot(axis_m, dic_score.values())\n",
    "plt.show()\n",
    "dic_D.values()\n"
   ]
  },
  {
   "cell_type": "code",
   "execution_count": 361,
   "metadata": {
    "scrolled": false
   },
   "outputs": [
    {
     "data": {
      "image/png": "[encoded data removed]",
      "text/plain": [
       "<matplotlib.figure.Figure at 0x1fe926a0>"
      ]
     },
     "metadata": {},
     "output_type": "display_data"
    },
    {
     "data": {
      "image/png": "[encoded data removed]",
      "text/plain": [
       "<matplotlib.figure.Figure at 0x13bfba20>"
      ]
     },
     "metadata": {},
     "output_type": "display_data"
    },
    {
     "name": "stdout",
     "output_type": "stream",
     "text": [
      "From 00:18 enter sleep monitoring program...\n"
     ]
    },
    {
     "data": {
      "image/png": "[encoded data removed]",
      "text/plain": [
       "<matplotlib.figure.Figure at 0x22f4ae80>"
      ]
     },
     "metadata": {},
     "output_type": "display_data"
    }
   ],
   "source": [
    "#  因刚开始入睡时，在PSG检测到进入睡眠状态1时，人体已经停止动作静止；故设置此重新评分法则：\n",
    "# (a) After at least 4 minutes scored as wake, the next 1 minute scored as sleep is rescored wake;\n",
    "# (b) after at least 10 minutes scored as wake, the next 3 minutes scored as sleep are rescored wake;\n",
    "# (c) after at least 15 minutes scored as wake, the next 4 minutes scored as sleep are rescored wake;\n",
    "# (d) 6 minutes or less scored as sleep surrounded by at least 10 minutes (before and after) scored as wake are rescored wake;\n",
    "# (e) 10 minutes or less scored as sleep surrounded by at least 20 minutes (before and after) scored as wake are rescored wake.       \n",
    "dic_rescore = dic_score.copy()\n",
    "for key in dic_rescore.keys(): # rule (a)\n",
    "    if (key > 3 and all([dic_rescore[key-i] == 2 for i in range(1,5)])and dic_rescore[key] < 2 ):\n",
    "        dic_rescore[key] = 2\n",
    "        break\n",
    "\n",
    "#         i = 1\n",
    "#         while(i<5):\n",
    "#             if dic_rescore[key-i] == 2:\n",
    "#                 i+=1\n",
    "#             else:\n",
    "#                 break\n",
    "#         if(i == 4):\n",
    "#              dic_rescore[key] = 2\n",
    "# plt.plot(array(range(t-6))/60, dic_rescore.values())\n",
    "# plt.show()    \n",
    "for key in dic_rescore.keys():# rule (b)\n",
    "    if (key > 9 and key < len(dic_rescore)-3 and all([dic_rescore[key - i] == 2 for i in range(1, 11)])and dic_rescore[key + 1] < 2):\n",
    "        for i in range(1, 4):\n",
    "            dic_score[key+i] = 2\n",
    "        break\n",
    "                \n",
    "for key in dic_rescore.keys():# rule (c)\n",
    "    if (key > 14 and key < len(dic_rescore)-4 and all([dic_rescore[key - i] == 2 for i in range(1, 16)])and dic_rescore[key + 1] < 2):\n",
    "        for i in range(1, 5):\n",
    "            dic_score[key+i] = 2\n",
    "        break\n",
    "                \n",
    "for key in dic_rescore.keys():# rule (d)\n",
    "    if (key > 9 and key < len(dic_rescore)-15 and all([dic_rescore[key-i] == 2 for i in range(1,11)])and dic_rescore[key + 1] < 2):\n",
    "        i=2\n",
    "        while(i<=6):\n",
    "            if dic_rescore[key+i] < 2:\n",
    "                i+=1\n",
    "            else:\n",
    "                break\n",
    "        if all([dic_rescore[key + i + ii] == 2 for ii in range(1,11)]):\n",
    "            for ii in range(1,i):\n",
    "                dic_rescore[key+i-ii] = 2\n",
    "                \n",
    "for key in dic_rescore.keys():# rule (e)\n",
    "    if (key > 19 and key < len(dic_rescore)-29 and all([dic_rescore[key-i] == 2 for i in range(1,21)])and dic_rescore[key + 1] < 2):\n",
    "        i=2\n",
    "        while(i<=10):\n",
    "            if dic_rescore[key+i] < 2:\n",
    "                i+=1\n",
    "            else:\n",
    "                break\n",
    "        if all([dic_rescore[key + i + ii] == 2 for ii in range(1,21)]):\n",
    "            for ii in range(1,i):\n",
    "                dic_rescore[key+i-ii] = 2\n",
    "# plt.subplot(211)\n",
    "plt.title(\"sleep score by ZCM\")\n",
    "plt.xticks([tt for tt in range(m_start,t+m_start,60)],\n",
    "  [m2t(tt) for tt in range(m_start,t+m_start,60)])\n",
    "plt.plot(axis_m, dic_score.values())\n",
    "plt.show()\n",
    "                \n",
    "                \n",
    "plt.title(\"sleep rescore-1 after 5 gole rules\")\n",
    "plt.xticks([tt for tt in range(m_start,t+m_start,60)],\n",
    "  [m2t(tt) for tt in range(m_start,t+m_start,60)])\n",
    "plt.plot(axis_m, dic_rescore.values())\n",
    "plt.show()\n",
    "\n",
    "# print(list(dic_rescore.values()).count(1))\n",
    "# print(dic_rescore.values())\n",
    "# key = 9\n",
    "# if ( key < len(dic_rescore)-60 and all([dic_rescore[key + i] < 2 for i in range(1,61)])):\n",
    "#     print(\"yes\")\n",
    "\n",
    "#判断是否进入睡眠程序:检测到连续30/60分钟睡眠才进入睡眠监测程序——待模块化！！！\n",
    "\n",
    "monitor = 0\n",
    "\n",
    "for key in dic_rescore.keys():\n",
    "    if ( key < len(dic_rescore)-60 and all([dic_rescore[key + i] < 2 for i in range(1,61)])):\n",
    "        for tt in range(1,key):\n",
    "            dic_rescore[key - tt] == 2 \n",
    "        print(\"From\", m2t(m_start+key), \"enter sleep monitoring program...\")\n",
    "        monitor = 1\n",
    "        break\n",
    "if(monitor == 0):\n",
    "    dic_rescore = {t: 2 for t in range(t)}\n",
    "\n",
    "# 深睡浅睡规则待完善 ！！！\n",
    "\n",
    "\n",
    "# plt.subplot(212)\n",
    "plt.title(\"sleep rescore-2 after sleep monitoring program\")\n",
    "plt.xticks([tt for tt in range(m_start,t+m_start,60)],\n",
    "  [m2t(tt) for tt in range(m_start,t+m_start,60)])\n",
    "plt.plot(axis_m, dic_rescore.values())\n",
    "plt.show()"
   ]
  },
  {
   "cell_type": "code",
   "execution_count": 362,
   "metadata": {},
   "outputs": [
    {
     "data": {
      "text/plain": [
       "dict_values([1, 1, 1, 1, 1, 0, 0, 0, 0, 0, 0, 0, 0, 0, 0, 0, 0, 0, 0, 0, 0, 0, 0, 0, 0, 0, 0, 0, 0, 0, 0, 0, 0, 0, 0, 0, 0, 0, 0, 0, 0, 0, 0, 0, 0, 0, 0, 0, 0, 0, 0, 0, 0, 0, 0, 0, 0, 0, 0, 0, 0, 0, 0, 0, 0, 0, 0, 0, 0, 0, 0, 0, 0, 0, 0, 0, 0, 0, 0, 0, 0, 0, 0, 0, 0, 0, 0, 0, 0, 0, 0, 0, 0, 0, 0, 0, 0, 0, 0, 0, 0, 0, 0, 0, 0, 0, 0, 0, 0, 0, 0, 0, 0, 0, 0, 0, 0, 0, 0, 0, 0, 0, 0, 0, 0, 0, 0, 0, 0, 0, 0, 0, 0, 0, 0, 0, 0, 0, 0, 0, 0, 0, 0, 0, 0, 0, 0, 0, 0, 0, 0, 0, 0, 0, 0, 0, 0, 0, 0, 0, 0, 0, 0, 0, 0, 0, 0, 0, 0, 0, 0, 0, 0, 0, 0, 0, 0, 0, 0, 0, 0, 0, 0, 0, 0, 0, 0, 0, 0, 0, 0, 0, 0, 0, 0, 0, 0, 0, 0, 0, 0, 0, 0, 0, 0, 0, 0, 0, 0, 0, 0, 0, 0, 0, 0, 0, 0, 0, 0, 0, 0, 0, 0, 0, 0, 0, 0, 0, 0, 0, 0, 0, 0, 0, 0, 0, 0, 0, 0, 0, 0, 0, 0, 0, 0, 0, 0, 0, 0, 0, 0, 0, 0, 0, 0, 0, 0, 0, 0, 0, 0])"
      ]
     },
     "execution_count": 362,
     "metadata": {},
     "output_type": "execute_result"
    }
   ],
   "source": [
    "dic_score.values()"
   ]
  },
  {
   "cell_type": "code",
   "execution_count": 363,
   "metadata": {
    "scrolled": false
   },
   "outputs": [
    {
     "data": {
      "image/png": "[encoded data removed]",
      "text/plain": [
       "<matplotlib.figure.Figure at 0x12172048>"
      ]
     },
     "metadata": {},
     "output_type": "display_data"
    },
    {
     "name": "stdout",
     "output_type": "stream",
     "text": [
      "Time to fall sleep: 00:18\n",
      "Time of sleep: 4.35 hours\n",
      "Time of deep sleep: 4.27 hours\n",
      "Time of light sleep: 0.08 hours\n"
     ]
    },
    {
     "data": {
      "image/png": "[encoded data removed]",
      "text/plain": [
       "<matplotlib.figure.Figure at 0x1bd95470>"
      ]
     },
     "metadata": {},
     "output_type": "display_data"
    }
   ],
   "source": [
    "# plt.subplot(212)\n",
    "plt.title(\"sleep rescore-2 after sleep monitoring program\")\n",
    "plt.xticks([tt for tt in range(m_start,t+m_start,60)],\n",
    "  [m2t(tt) for tt in range(m_start,t+m_start,60)])\n",
    "plt.plot(axis_m, dic_rescore.values())\n",
    "plt.show()\n",
    "\n",
    "# 睡眠指标统计：入睡时间time_fall， 起床时间time_get， 睡眠总时长t_sleep, 深睡眠时长t_deep， 浅睡眠时长t_light，睡眠过程中清醒时长t_wake\n",
    "\n",
    "\n",
    "#如果检测点前10分钟清醒,检测点后10分钟睡眠，这判定为入睡时间点\n",
    "for key in dic_rescore.keys():\n",
    "    if dic_rescore[key]<2:\n",
    "        if (key > 9 and key < len(dic_rescore)-10 and all([dic_rescore[key-i] == 2 for i in range(1,11)]) and all([dic_rescore[key+i] < 2 for i in range(1,11)])):\n",
    "            time_fall = m2t(key+m_start)\n",
    "            print(\"Time to fall sleep:\", time_fall)\n",
    "            break\n",
    "        if (key < 9 or key > len(dic_rescore)-10):\n",
    "            time_fall = m2t(key+m_start)\n",
    "            print(\"Time to fall sleep:\", time_fall)\n",
    "            break\n",
    "# 相反的，如果检测点前10分钟睡眠，检测点后10分钟清醒，则判定为起床时间点\n",
    "for key in dic_rescore.keys():\n",
    "    if (key > 9 and key < len(dic_rescore)-10 and dic_rescore[key] == 2 and all([dic_rescore[key-i] < 2 for i in range(1,11)]) and all([dic_rescore[key+i] == 2 for i in range(1,11)])):\n",
    "        time_get = m2t(key+m_start)\n",
    "        print(\"Time to get up:\", time_get, \",and out of sleep monitoring program.\")\n",
    "        #退出睡眠监测程序，并重新检测入睡时间点，即起床后——未进入睡眠程序前的点赋值为2，此模块待完善！！！\n",
    "        for kk in range(key, t):\n",
    "            dic_rescore[kk] = 2\n",
    "#           print(dic_rescore[key])\n",
    "        break\n",
    "\n",
    "# 睡眠过程中的清醒时长，如果检测点前10分钟睡眠，清醒时间段后10分钟睡眠，则判定为睡眠过程中清醒 \n",
    "for key in dic_rescore.keys():\n",
    "    if (key > 9 and key < len(dic_rescore)-10 and dic_rescore[key] == 2 and all([dic_rescore[key-i] < 2 for i in range(1,11)])):\n",
    "        wake_in_sleep = 0\n",
    "        while (key+wake_in_sleep < len(dic_rescore)-10):\n",
    "            if (dic_rescore[key+wake_in_sleep] == 2):\n",
    "                wake_in_sleep+=1\n",
    "            else:\n",
    "                break\n",
    "        if all([dic_rescore[key+wake_in_sleep+i] < 2 for i in range(1,10)]):\n",
    "            print(\"Wake time during sleep:\", m2t(key+wake_in_sleep+m_start))\n",
    "            print(\"The length of wake time during sleep:\", wake_in_sleep,\"minutes\")\n",
    "     \n",
    "t_deep = list(dic_rescore.values()).count(0)/60\n",
    "t_light = list(dic_rescore.values()).count(1)/60\n",
    "t_wake = list(dic_rescore.values()).count(2)/60\n",
    "t_sleep = t_deep + t_light\n",
    "\n",
    "\n",
    "print(\"Time of sleep:\", '%.2f' % t_sleep, \"hours\")\n",
    "print(\"Time of deep sleep:\", '%.2f' % t_deep,\"hours\")\n",
    "print(\"Time of light sleep:\", '%.2f' % t_light,\"hours\")\n",
    "# print(\"Time of wake:\", '%.2f' % t_wake,\"hours\")\n",
    "\n",
    "plt.title(\"sleep rescore-3 after get-up monitoring program\")\n",
    "plt.xticks([tt for tt in range(m_start,t+m_start,60)],\n",
    "  [m2t(tt) for tt in range(m_start,t+m_start,60)])\n",
    "plt.plot(axis_m, dic_rescore.values())\n",
    "plt.show()"
   ]
  },
  {
   "cell_type": "code",
   "execution_count": null,
   "metadata": {
    "collapsed": true
   },
   "outputs": [],
   "source": []
  }
 ],
 "metadata": {
  "kernelspec": {
   "display_name": "Python 3",
   "language": "python",
   "name": "python3"
  },
  "language_info": {
   "codemirror_mode": {
    "name": "ipython",
    "version": 3
   },
   "file_extension": ".py",
   "mimetype": "text/x-python",
   "name": "python",
   "nbconvert_exporter": "python",
   "pygments_lexer": "ipython3",
   "version": "3.6.3"
  }
 },
 "nbformat": 4,
 "nbformat_minor": 2
}
